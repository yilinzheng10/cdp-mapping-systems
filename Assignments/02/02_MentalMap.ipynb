{
 "cells": [
  {
   "cell_type": "code",
   "execution_count": 2,
   "metadata": {},
   "outputs": [],
   "source": [
    "import requests\n",
    "from bs4 import BeautifulSoup\n",
    "import nltk\n",
    "from nltk.tokenize import sent_tokenize\n"
   ]
  },
  {
   "cell_type": "code",
   "execution_count": 3,
   "metadata": {},
   "outputs": [
    {
     "name": "stderr",
     "output_type": "stream",
     "text": [
      "[nltk_data] Downloading package punkt to\n",
      "[nltk_data]     C:\\Users\\zheng\\AppData\\Roaming\\nltk_data...\n",
      "[nltk_data]   Unzipping tokenizers\\punkt.zip.\n"
     ]
    },
    {
     "data": {
      "text/plain": [
       "True"
      ]
     },
     "execution_count": 3,
     "metadata": {},
     "output_type": "execute_result"
    }
   ],
   "source": [
    "# Ensure you have the NLTK sentence tokenizer\n",
    "nltk.download('punkt')"
   ]
  },
  {
   "cell_type": "code",
   "execution_count": 4,
   "metadata": {},
   "outputs": [],
   "source": [
    "# Function to fetch and parse the webpage\n",
    "def get_webpage_content(url):\n",
    "    response = requests.get(url)\n",
    "    response.raise_for_status()  # Ensure the request was successful\n",
    "    return response.text"
   ]
  },
  {
   "cell_type": "code",
   "execution_count": 5,
   "metadata": {},
   "outputs": [],
   "source": [
    "# Function to extract sentences with keywords\n",
    "def extract_sentences_with_keywords(url, keywords):\n",
    "    content = get_webpage_content(url)\n",
    "    soup = BeautifulSoup(content, 'html.parser')\n",
    "    text = soup.get_text()  # Extract text from HTML\n",
    "\n",
    "    sentences = sent_tokenize(text)  # Tokenize text into sentences\n",
    "\n",
    "    # Find sentences with keywords\n",
    "    keyword_sentences = [sentence for sentence in sentences if any(keyword in sentence for keyword in keywords)]\n",
    "    return keyword_sentences"
   ]
  },
  {
   "cell_type": "code",
   "execution_count": 8,
   "metadata": {},
   "outputs": [
    {
     "name": "stdout",
     "output_type": "stream",
     "text": [
      "Welcome to My ActivityMy ActivitySign inMy ActivityWelcome to My ActivityData helps make Google services more useful for you.\n",
      "Sign in to review and manage your activity, including things you’ve searched for, websites you’ve visited, and videos you’ve watched.\n"
     ]
    }
   ],
   "source": [
    "# Example usage\n",
    "url = 'https://myactivity.google.com/activitycontrols/webandapp?hl=en&min=1716264000000000&max=1721966399999999&product=12'\n",
    "keywords = ['Direction','to']  # Replace with your keywords\n",
    "sentences_with_keywords = extract_sentences_with_keywords(url, keywords)\n",
    "\n",
    "for sentence in sentences_with_keywords:\n",
    "    print(sentence)"
   ]
  },
  {
   "cell_type": "code",
   "execution_count": 16,
   "metadata": {},
   "outputs": [
    {
     "name": "stdout",
     "output_type": "stream",
     "text": [
      "{\n",
      "    \"features\": [\n",
      "        {\n",
      "            \"geometry\": {\n",
      "                \"coordinates\": [\n",
      "                    -91.0559603,\n",
      "                    30.443012799999998\n",
      "                ],\n",
      "                \"type\": \"Point\"\n",
      "            },\n",
      "            \"properties\": {\n",
      "                \"address\": \"1383 Ashbourne Dr, Baton Rouge, LA 70815, USA\",\n",
      "                \"name\": \"Home\"\n",
      "            },\n",
      "            \"type\": \"Feature\"\n",
      "        },\n",
      "        {\n",
      "            \"geometry\": {\n",
      "                \"coordinates\": [\n",
      "                    -91.1849963,\n",
      "                    30.4103353\n",
      "                ],\n",
      "                \"type\": \"Point\"\n",
      "            },\n",
      "            \"properties\": {\n",
      "                \"address\": \"Visitor Parking, Baton Rouge, LA 70808, USA\",\n",
      "                \"name\": \"Work\"\n",
      "            },\n",
      "            \"type\": \"Feature\"\n",
      "        },\n",
      "        {\n",
      "            \"geometry\": {\n",
      "                \"coordinates\": [\n",
      "                    -91.1318727,\n",
      "                    30.454663\n",
      "                ],\n",
      "                \"type\": \"Point\"\n",
      "            },\n",
      "            \"properties\": {\n",
      "                \"address\": \"655 Waverly Dr, Baton Rouge, LA 70806, USA\",\n",
      "                \"name\": \"yangyang\"\n",
      "            },\n",
      "            \"type\": \"Feature\"\n",
      "        },\n",
      "        {\n",
      "            \"geometry\": {\n",
      "                \"coordinates\": [\n",
      "                    -91.10878249999999,\n",
      "                    30.3420927\n",
      "                ],\n",
      "                \"type\": \"Point\"\n",
      "            },\n",
      "            \"properties\": {\n",
      "                \"address\": \"10526 Hill Pointe Ave, Baton Rouge, LA 70810, USA\",\n",
      "                \"name\": \"jenny\"\n",
      "            },\n",
      "            \"type\": \"Feature\"\n",
      "        },\n",
      "        {\n",
      "            \"geometry\": {\n",
      "                \"coordinates\": [\n",
      "                    2.3568534,\n",
      "                    48.860928099999995\n",
      "                ],\n",
      "                \"type\": \"Point\"\n",
      "            },\n",
      "            \"properties\": {\n",
      "                \"address\": \"6 Rue de Braque, 75003 Paris, France\",\n",
      "                \"name\": \"School\"\n",
      "            },\n",
      "            \"type\": \"Feature\"\n",
      "        }\n",
      "    ],\n",
      "    \"type\": \"FeatureCollection\"\n",
      "}\n"
     ]
    }
   ],
   "source": [
    "import json\n",
    "\n",
    "# Function to read a JSON file\n",
    "def read_json_file(file_path):\n",
    "    with open(file_path, 'r') as file:\n",
    "        data = json.load(file)\n",
    "    return data\n",
    "\n",
    "# Example usage\n",
    "file_path = 'original_data/Takeout/Maps/My labeled places/Labeled places.json'\n",
    "data = read_json_file(file_path)\n",
    "\n",
    "# Print the contents of the JSON file\n",
    "print(json.dumps(data, indent=4))\n"
   ]
  }
 ],
 "metadata": {
  "kernelspec": {
   "display_name": "Python 3",
   "language": "python",
   "name": "python3"
  },
  "language_info": {
   "codemirror_mode": {
    "name": "ipython",
    "version": 3
   },
   "file_extension": ".py",
   "mimetype": "text/x-python",
   "name": "python",
   "nbconvert_exporter": "python",
   "pygments_lexer": "ipython3",
   "version": "3.12.3"
  }
 },
 "nbformat": 4,
 "nbformat_minor": 2
}
